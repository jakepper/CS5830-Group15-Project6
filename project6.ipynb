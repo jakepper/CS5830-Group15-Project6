{
 "cells": [
  {
   "attachments": {},
   "cell_type": "markdown",
   "metadata": {},
   "source": [
    "# CS5830 - Group15 - Project 6\n",
    "\n",
    "## Baseflow Dataset Analysis + Linear Regression\n",
    "\n",
    "#### Dataset\n",
    "\n",
    "- `Date` – number of days since 01/01/0000\n",
    "- `Segment id` – an identifier of the segment of river; it can be treated as a categorical variable\n",
    "- `x/y` – the spatial location of the gaging station at which observations are obtained\n",
    "- `Evapotranspiration` – the evapotranspiration amount of an area adjacent to the river segment in the given month\n",
    "- `Precipitation` - the precipitation amount of an area adjacent to the river segment in the given month\n",
    "- `Irrigation pumping` - the amount of groundwater pumped out for irrigation in an area adjacent to the river segment in the given month\n",
    "- `Observed` – observed baseflow \\[target\\]"
   ]
  },
  {
   "attachments": {},
   "cell_type": "markdown",
   "metadata": {},
   "source": [
    "#### Imports"
   ]
  },
  {
   "cell_type": "code",
   "execution_count": null,
   "metadata": {},
   "outputs": [],
   "source": [
    "import pandas as pd\n",
    "import numpy as np\n",
    "from scipy import stats\n",
    "\n",
    "import seaborn as sns\n",
    "import matplotlib.pyplot as plt\n",
    "\n",
    "from sklearn.model_selection import train_test_split\n",
    "from sklearn.pipeline import make_pipeline\n",
    "from sklearn.compose import make_column_transformer\n",
    "from sklearn.preprocessing import StandardScaler\n",
    "from sklearn.linear_model import LinearRegression"
   ]
  },
  {
   "attachments": {},
   "cell_type": "markdown",
   "metadata": {},
   "source": [
    "#### Data Preparation"
   ]
  },
  {
   "cell_type": "code",
   "execution_count": null,
   "metadata": {},
   "outputs": [],
   "source": [
    "df = pd.read_csv(\"./data/RRCA_baseflow.csv\")\n",
    "\n",
    "df['Date'] = df['Date'] - 693963    # Fix Date Column\n",
    "\n",
    "df.info()"
   ]
  },
  {
   "attachments": {},
   "cell_type": "markdown",
   "metadata": {},
   "source": [
    "### Analysis"
   ]
  },
  {
   "cell_type": "code",
   "execution_count": null,
   "metadata": {},
   "outputs": [],
   "source": [
    "target = 'Observed'\n",
    "\n",
    "X = df.drop(columns=[])\n",
    "y = df[target]\n",
    "\n",
    "for col in ['Date', 'x', 'y', 'Evapotranspiration', 'Precipitation', 'Irrigation_pumping']:\n",
    "    data = df[col]\n",
    "    plt.figure(col)\n",
    "    ax = sns.regplot(x=data, y=y, scatter_kws={'s':2})\n",
    "    ax.set_title(f'{col} vs Observed')\n",
    "    ax.set_ylabel(\"Observed\")\n",
    "    ax.set_xlabel(col)\n",
    "    # plt.savefig(f'figures/{col}-plot.pdf')\n",
    "    plt.show()\n",
    "    print(col)\n",
    "    print(f'Pearson Test: {stats.pearsonr(data, y)}')\n",
    "    print(f'Average: {data.mean()}')\n",
    "    print(f'Standard Deviation: {stats.tstd(data)}')\n",
    "\n",
    "# TODO: Look At Data Over Time\n",
    "# .\n",
    "# .\n",
    "# ."
   ]
  },
  {
   "attachments": {},
   "cell_type": "markdown",
   "metadata": {},
   "source": [
    "### Linear Regression"
   ]
  },
  {
   "cell_type": "code",
   "execution_count": null,
   "metadata": {},
   "outputs": [],
   "source": [
    "train, test = train_test_split(df, test_size=0.2, random_state=123)\n",
    "\n",
    "X_train = train.drop(columns=[target], axis=1)\n",
    "y_train = train[target]\n",
    "\n",
    "X_test = test.drop(columns=[target], axis=1)\n",
    "y_test = test[target]\n",
    "\n",
    "model = LinearRegression()\n",
    "model.fit(X_train, y_train)\n",
    "\n",
    "print(\"Original:\", model.score(X_test, y_test))\n",
    "\n",
    "numerical_data = ['x', 'y', 'Evapotranspiration', 'Precipitation', 'Irrigation_pumping']\n",
    "\n",
    "ct = make_column_transformer(\n",
    "    (StandardScaler(), numerical_data),\n",
    ")\n",
    "\n",
    "pipe = make_pipeline(\n",
    "    ct,\n",
    "    LinearRegression()\n",
    ")\n",
    "pipe.fit(X_train, y_train)\n",
    "\n",
    "print(\"Scaled:\", pipe.score(X_test, y_test))"
   ]
  }
 ],
 "metadata": {
  "kernelspec": {
   "display_name": "base",
   "language": "python",
   "name": "python3"
  },
  "language_info": {
   "codemirror_mode": {
    "name": "ipython",
    "version": 3
   },
   "file_extension": ".py",
   "mimetype": "text/x-python",
   "name": "python",
   "nbconvert_exporter": "python",
   "pygments_lexer": "ipython3",
   "version": "3.10.6"
  },
  "orig_nbformat": 4
 },
 "nbformat": 4,
 "nbformat_minor": 2
}
