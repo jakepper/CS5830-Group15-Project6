{
 "cells": [
  {
   "attachments": {},
   "cell_type": "markdown",
   "metadata": {},
   "source": [
    "# CS5830 - Group15 - Project 6\n",
    "\n",
    "## Baseflow Dataset Analysis + Linear Regression\n",
    "\n",
    "#### Dataset\n",
    "\n",
    "- *Date* – number of days since 01/01/0000\n",
    "- *Segment id* – an identifier of the segment of river; it can be treated as a categorical variable\n",
    "- *x/y* – the spatial location of the gaging station at which observations are obtained\n",
    "- *Evapotranspiration* – the evapotranspiration amount of an area adjacent to the river segment in the given month\n",
    "- *Precipitation* - the precipitation amount of an area adjacent to the river segment in the given month\n",
    "- *Irrigation pumping* - the amount of groundwater pumped out for irrigation in an area adjacent to the river segment in the given month\n",
    "- *Observed* – observed baseflow \\[target\\]"
   ]
  },
  {
   "attachments": {},
   "cell_type": "markdown",
   "metadata": {},
   "source": [
    "#### Imports"
   ]
  },
  {
   "cell_type": "code",
   "execution_count": null,
   "metadata": {},
   "outputs": [],
   "source": [
    "import pandas as pd\n",
    "import numpy as np\n",
    "\n",
    "import seaborn as sns\n",
    "import matplotlib.pyplot as plt\n",
    "\n",
    "from sklearn.model_selection import train_test_split\n",
    "from sklearn.linear_model import LinearRegression"
   ]
  },
  {
   "attachments": {},
   "cell_type": "markdown",
   "metadata": {},
   "source": [
    "#### Data Preparation"
   ]
  },
  {
   "cell_type": "code",
   "execution_count": null,
   "metadata": {},
   "outputs": [],
   "source": [
    "df = pd.read_csv(\"./data/RRCA_baseflow.csv\")\n",
    "df.info()"
   ]
  }
 ],
 "metadata": {
  "kernelspec": {
   "display_name": "base",
   "language": "python",
   "name": "python3"
  },
  "language_info": {
   "codemirror_mode": {
    "name": "ipython",
    "version": 3
   },
   "file_extension": ".py",
   "mimetype": "text/x-python",
   "name": "python",
   "nbconvert_exporter": "python",
   "pygments_lexer": "ipython3",
   "version": "3.9.13"
  },
  "orig_nbformat": 4
 },
 "nbformat": 4,
 "nbformat_minor": 2
}
